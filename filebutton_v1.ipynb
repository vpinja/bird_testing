{
 "cells": [
  {
   "cell_type": "code",
   "execution_count": 14,
   "metadata": {
    "collapsed": true
   },
   "outputs": [],
   "source": [
    "import os\n",
    "import ipywidgets as widgets\n",
    "\n",
    "class FileBrowser(object):\n",
    "    def __init__(self):\n",
    "        self.path = os.getcwd()\n",
    "        self._update_files()\n",
    "\n",
    "    def _update_files(self):\n",
    "        self.files = list()\n",
    "        self.dirs = list()\n",
    "        if(os.path.isdir(self.path)):\n",
    "            for f in os.listdir(self.path):\n",
    "                ff = os.path.join(self.path, f)\n",
    "                if os.path.isdir(ff):\n",
    "                    self.dirs.append(f)\n",
    "                else:\n",
    "                    self.files.append(f)\n",
    "\n",
    "    def widget(self):\n",
    "        box = widgets.VBox()\n",
    "        self._update(box)\n",
    "        return box\n",
    "\n",
    "    def _update(self, box):\n",
    "\n",
    "        def on_click(b):\n",
    "            if b.description == '..':\n",
    "                self.path = os.path.split(self.path)[0]\n",
    "            else:\n",
    "                self.path = os.path.join(self.path, b.description)\n",
    "            self._update_files()\n",
    "            self._update(box)\n",
    "\n",
    "        buttons = []\n",
    "        if self.files:\n",
    "            button = widgets.Button(description='..', background_color='#d0d0ff')\n",
    "            button.on_click(on_click)\n",
    "            buttons.append(button)\n",
    "        for f in self.dirs:\n",
    "            button = widgets.Button(description=f, background_color='#d0d0ff')\n",
    "            button.on_click(on_click)\n",
    "            buttons.append(button)\n",
    "        for f in self.files:\n",
    "            button = widgets.Button(description=f)\n",
    "            button.on_click(on_click)\n",
    "            buttons.append(button)\n",
    "        box.children = tuple([widgets.HTML(\"<h2>%s</h2>\" % (self.path,))] + buttons)"
   ]
  },
  {
   "cell_type": "code",
   "execution_count": 19,
   "metadata": {
    "scrolled": false
   },
   "outputs": [
    {
     "data": {
      "application/vnd.jupyter.widget-view+json": {
       "model_id": "84b7f721d647442f991baf34dc1f55fb",
       "version_major": 2,
       "version_minor": 0
      },
      "text/plain": [
       "VBox(children=(HTML(value='<h2>C:\\\\Users\\\\venalap3</h2>'), Button(description='..', style=ButtonStyle()), Butt…"
      ]
     },
     "metadata": {},
     "output_type": "display_data"
    }
   ],
   "source": [
    "f = FileBrowser()\n",
    "f.widget()"
   ]
  },
  {
   "cell_type": "code",
   "execution_count": 20,
   "metadata": {},
   "outputs": [
    {
     "data": {
      "text/plain": [
       "'C:\\\\Users\\\\venalap3\\\\071218_1500_20_60i.csv'"
      ]
     },
     "execution_count": 20,
     "metadata": {},
     "output_type": "execute_result"
    }
   ],
   "source": [
    "\n",
    "#   <interact with widget, select a path>\n",
    "# in a separate cell:\n",
    "f.path # returns the selected path"
   ]
  },
  {
   "cell_type": "code",
   "execution_count": null,
   "metadata": {
    "collapsed": true
   },
   "outputs": [],
   "source": []
  }
 ],
 "metadata": {
  "kernelspec": {
   "display_name": "Python 3",
   "language": "python",
   "name": "python3"
  },
  "language_info": {
   "codemirror_mode": {
    "name": "ipython",
    "version": 3
   },
   "file_extension": ".py",
   "mimetype": "text/x-python",
   "name": "python",
   "nbconvert_exporter": "python",
   "pygments_lexer": "ipython3",
   "version": "3.6.3"
  }
 },
 "nbformat": 4,
 "nbformat_minor": 2
}
