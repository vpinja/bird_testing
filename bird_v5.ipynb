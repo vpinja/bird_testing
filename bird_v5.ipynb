{
 "cells": [
  {
   "cell_type": "code",
   "execution_count": 1,
   "metadata": {
    "collapsed": true
   },
   "outputs": [],
   "source": [
    "from ipywidgets import interact, interactive, fixed, interact_manual\n",
    "import ipywidgets as widgets\n",
    "from IPython.display import display\n",
    "\n",
    "import traitlets\n",
    "from tkinter import Tk, filedialog\n",
    "\n",
    "import numpy as np\n",
    "import pandas as pd \n",
    "import matplotlib.pyplot as plt\n",
    "from mpl_toolkits.mplot3d import Axes3D\n",
    "import pandas as pd \n",
    "\n",
    "import os\n",
    "from os import listdir\n",
    "from os.path import isfile, join"
   ]
  },
  {
   "cell_type": "code",
   "execution_count": 2,
   "metadata": {
    "collapsed": true
   },
   "outputs": [],
   "source": [
    "class DataContainer:\n",
    "    def __init__(self, filePath):\n",
    "        self.fileName = filePath\n",
    "        self.readData()\n",
    "        \n",
    "    def readData(self):\n",
    "        self.data = pd.read_csv(self.fileName, sep=',') \n",
    "        \n",
    "        i=0\n",
    "        names = []\n",
    "        while i < len(self.data.columns):\n",
    "            if i%2 == 1:\n",
    "                names.append('Unnamed: '+str(i))\n",
    "            i+=1\n",
    "\n",
    "        names.append('Unnamed: '+str(len(self.data.columns)-1))  \n",
    "\n",
    "        for k in names:\n",
    "            self.data = self.data.drop([k], axis=1)\n",
    "\n",
    "        self.data = self.data.drop(['S-Polarization Baseline', 'P-Polarization Baseline','Zero Correction'], axis=1)\n",
    "        self.data = self.data.dropna()\n",
    "\n",
    "        self.data = self.data.drop(self.data.index[0])\n",
    "        self.wavelenghts = self.data.index\n",
    "\n",
    "    def select_data(self,wavelenght,pol):\n",
    "        ang = self.data.loc[wavelenght].index\n",
    "        self.iza = []\n",
    "        self.vza = []\n",
    "        self.amp = []\n",
    "        i = 0\n",
    "        for k in ang:\n",
    "            split = k.split('/')\n",
    "            if split[0][0] == pol:\n",
    "                self.vza.append(int(split[1]))\n",
    "                self.iza.append(int(split[0][1:]))\n",
    "                self.amp.append(float(self.data.loc[wavelenght][i]))\n",
    "            i+=1\n",
    "        return (self.iza,self.vza,self.amp)"
   ]
  },
  {
   "cell_type": "code",
   "execution_count": 3,
   "metadata": {
    "collapsed": true
   },
   "outputs": [],
   "source": [
    "def func(File,Wavelenght,Polarization):\n",
    "    if File == 'Empty':\n",
    "        x = [1,2,3,4]\n",
    "        y = [1,2,3,4]\n",
    "        z = [1,2,3,4]\n",
    "        \n",
    "    else:\n",
    "        dc = DataContainer(File)\n",
    "        [x,y,z] = dc.select_data(Wavelenght, Polarization)  \n",
    "\n",
    "    fig = plt.figure(figsize=(12, 10))\n",
    "    ax = fig.add_subplot(111, projection='3d')\n",
    "    ax.scatter(x, y, z)\n",
    "    ax.set_xlabel('X Label')\n",
    "    ax.set_ylabel('Y Label')\n",
    "    ax.set_zlabel('Z Label')\n",
    "    plt.show()\n",
    "    return (x,y,z)"
   ]
  },
  {
   "cell_type": "code",
   "execution_count": 4,
   "metadata": {
    "collapsed": true
   },
   "outputs": [],
   "source": [
    "notebook_path = os.path.abspath(\"bird_v4-Copy1\")\n",
    "n = listdir(os.path.dirname(notebook_path))\n",
    "csv_files = []\n",
    "for i in n:\n",
    "    if i.lower().endswith( '.csv'):\n",
    "        csv_files.append(i)"
   ]
  },
  {
   "cell_type": "code",
   "execution_count": 5,
   "metadata": {},
   "outputs": [
    {
     "data": {
      "application/vnd.jupyter.widget-view+json": {
       "model_id": "b54bcd60ba94423f8019b196d2de85c2",
       "version_major": 2,
       "version_minor": 0
      },
      "text/plain": [
       "interactive(children=(Dropdown(description='File', options=('071218_1500_20_60i.csv', '071218_1500_20_60i_ADL.…"
      ]
     },
     "metadata": {},
     "output_type": "display_data"
    }
   ],
   "source": [
    "d1 = DataContainer(csv_files[0])\n",
    "\n",
    "data = widgets.Dropdown(options=csv_files)\n",
    "pol = widgets.RadioButtons(options=['s','p'])\n",
    "num = widgets.Dropdown(options=d1.wavelenghts)\n",
    "\n",
    "files = ['Empty']\n",
    "\n",
    "def update_wavelenght(change):\n",
    "    d1 = DataContainer(change.new)\n",
    "    num.options = d1.wavelenghts\n",
    "\n",
    "data.observe(update_wavelenght,'value')\n",
    "\n",
    "k=interactive(func,File=data, Wavelenght=num,Polarization=pol)\n",
    "display(k)"
   ]
  }
 ],
 "metadata": {
  "kernelspec": {
   "display_name": "Python 3",
   "language": "python",
   "name": "python3"
  },
  "language_info": {
   "codemirror_mode": {
    "name": "ipython",
    "version": 3
   },
   "file_extension": ".py",
   "mimetype": "text/x-python",
   "name": "python",
   "nbconvert_exporter": "python",
   "pygments_lexer": "ipython3",
   "version": "3.6.3"
  }
 },
 "nbformat": 4,
 "nbformat_minor": 2
}
